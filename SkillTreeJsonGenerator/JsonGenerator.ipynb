{
 "cells": [
  {
   "cell_type": "markdown",
   "metadata": {},
   "source": [
    "## SkilltreeのJson作成"
   ]
  },
  {
   "cell_type": "code",
   "execution_count": 4,
   "metadata": {
    "ExecuteTime": {
     "end_time": "2020-09-24T16:37:24.797310Z",
     "start_time": "2020-09-24T16:37:24.696802Z"
    }
   },
   "outputs": [],
   "source": [
    "import pandas as pd\n",
    "csv_jp = pd.read_csv('SkillListJp.tsv',sep='\\t')\n",
    "csv_en = pd.read_csv('SkillListEn.tsv',sep='\\t')\n",
    "csv_cn = pd.read_csv('SkillListCn.tsv',sep='\\t')\n",
    "skill_tree = 'ABCDEFGHIJKLMNOPQRSTUVWXYZ'\n",
    "skill_key = 'abcdefghijklmnopqrstuvwxyz'\n",
    "category_keys = ['基本', '戦闘', '魔法', '生活', 'トリック']\n",
    "category_keys_en = ['Basic', 'Combat', 'Magic', 'Life', 'Trick']\n",
    "category_keys_cn = ['基础', '战斗', '魔法', '生活', '陷阱']\n",
    "tier_keys = ['Tier1', 'Tier2', 'Tier3', 'Tier4', 'Tier5']\n",
    "tier_limit = {'基本': [3, 5, 7, 10, 99], '戦闘': [3, 6, 12, 12, 99], '魔法': [3, 6, 12, 12, 99], '生活': [3, 6, 12, 12, 99], 'トリック': [3, 6, 12, 12, 99]}\n",
    "icon_path = './img/:name.png'\n",
    "skilltree_ver = 'v1'"
   ]
  },
  {
   "cell_type": "code",
   "execution_count": 5,
   "metadata": {
    "ExecuteTime": {
     "end_time": "2020-09-24T16:37:25.065734Z",
     "start_time": "2020-09-24T16:37:25.062752Z"
    }
   },
   "outputs": [],
   "source": [
    "# aa, abなどのスキルキーを作成\n",
    "def CreateSkillKey(index):\n",
    "    return (skill_key[int(index/26)] + skill_key[int(index%26)])"
   ]
  },
  {
   "cell_type": "code",
   "execution_count": 6,
   "metadata": {
    "ExecuteTime": {
     "end_time": "2020-09-24T16:38:37.993689Z",
     "start_time": "2020-09-24T16:38:37.750928Z"
    }
   },
   "outputs": [],
   "source": [
    "result = []\n",
    "tree_index = 0\n",
    "\n",
    "for category_key in category_keys:\n",
    "    result.append({\n",
    "        'name': {\n",
    "            'jp': category_key,\n",
    "            'en': category_keys_en[tree_index],\n",
    "            'cn': category_keys_cn[tree_index],\n",
    "        },\n",
    "        'key': skill_tree[tree_index],\n",
    "        'tiers': []\n",
    "    })\n",
    "    \n",
    "    tier_index = 0\n",
    "    for tier_key in tier_keys:\n",
    "        result[tree_index]['tiers'].append({\n",
    "            'limit': tier_limit[category_key][tier_index],\n",
    "            'skills': []\n",
    "        })\n",
    "\n",
    "        tier_data = csv_jp[(csv_jp['CategoryName'] == category_key) & (csv_jp['Tier'] == tier_key) & (csv_jp['Tier'] != 'None')].sort_values('Tier', ascending=True).iterrows()\n",
    "        skill_index = 0\n",
    "        for skill in tier_data:\n",
    "            skill_en = csv_en[csv_en['ID'] == skill[1]['ID']] # 英語tsvから同一スキルの情報を取得\n",
    "            skill_cn = csv_cn[csv_cn['ID'] == skill[1]['ID']]\n",
    "            result[tree_index]['tiers'][tier_index]['skills'].append({\n",
    "                'id': skill[1]['ID'],\n",
    "                'key': CreateSkillKey(skill_index),\n",
    "                'name': {\n",
    "                    'jp': skill[1]['SkillName'],\n",
    "                    'en': skill_en['SkillName'].iloc[-1],\n",
    "                    'cn': skill_cn['SkillName'].iloc[-1]\n",
    "                },\n",
    "                'max': skill[1]['MaxLevel'],\n",
    "                'description': {\n",
    "                    'jp': skill[1]['Description'],\n",
    "                    'en': skill_en['Description'].iloc[-1],\n",
    "                    'cn': skill_cn['Description'].iloc[-1]\n",
    "                },\n",
    "                'icon': skill_en['IconName'].iloc[-1] + '.png'\n",
    "            })\n",
    "            skill_index+=1\n",
    "        tier_index+=1\n",
    "        \n",
    "    tree_index+=1"
   ]
  },
  {
   "cell_type": "code",
   "execution_count": 7,
   "metadata": {
    "ExecuteTime": {
     "end_time": "2020-09-24T16:42:02.518779Z",
     "start_time": "2020-09-24T16:42:02.508781Z"
    }
   },
   "outputs": [],
   "source": [
    "import json\n",
    "with open(skilltree_ver + '.json', 'w', encoding='utf-8') as f:\n",
    "    json.dump(result, f, ensure_ascii=False)"
   ]
  }
 ],
 "metadata": {
  "kernelspec": {
   "display_name": "Python 3",
   "language": "python",
   "name": "python3"
  },
  "language_info": {
   "codemirror_mode": {
    "name": "ipython",
    "version": 3
   },
   "file_extension": ".py",
   "mimetype": "text/x-python",
   "name": "python",
   "nbconvert_exporter": "python",
   "pygments_lexer": "ipython3",
   "version": "3.7.3-final"
  }
 },
 "nbformat": 4,
 "nbformat_minor": 2
}